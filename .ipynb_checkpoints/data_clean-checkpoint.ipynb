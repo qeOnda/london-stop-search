{
 "cells": [
  {
   "cell_type": "markdown",
   "metadata": {},
   "source": [
    "#Project name"
   ]
  },
  {
   "cell_type": "markdown",
   "metadata": {},
   "source": [
    "#1. Stop and Search Data\n",
    "##1.1 Download stop and search data and combine into single file\n",
    "The data comes from:\n",
    "For the purpose of this project, we downloaded stop and search for the year 2019 -- Jan, 1 to Dec, 31. \n",
    "The source files were monthly reports - we combine them below. "
   ]
  },
  {
   "cell_type": "code",
   "execution_count": 1,
   "metadata": {},
   "outputs": [],
   "source": [
    "import pandas as pd\n",
    "import geopandas as gpd\n",
    "import glob \n",
    "import json"
   ]
  },
  {
   "cell_type": "code",
   "execution_count": 3,
   "metadata": {},
   "outputs": [],
   "source": [
    "files = glob.glob(\"/Users/sean/desktop/proj_london/data/source_data/*.csv\")\n",
    "appended = [pd.read_csv(f) for f in files]"
   ]
  },
  {
   "cell_type": "code",
   "execution_count": 3,
   "metadata": {},
   "outputs": [
    {
     "ename": "NameError",
     "evalue": "name 'pd' is not defined",
     "output_type": "error",
     "traceback": [
      "\u001b[0;31m---------------------------------------------------------------------------\u001b[0m",
      "\u001b[0;31mNameError\u001b[0m                                 Traceback (most recent call last)",
      "\u001b[0;32m<ipython-input-3-9a17af99bd1d>\u001b[0m in \u001b[0;36m<module>\u001b[0;34m\u001b[0m\n\u001b[0;32m----> 1\u001b[0;31m \u001b[0mcombined\u001b[0m \u001b[0;34m=\u001b[0m \u001b[0mpd\u001b[0m\u001b[0;34m.\u001b[0m\u001b[0mconcat\u001b[0m\u001b[0;34m(\u001b[0m\u001b[0mappended\u001b[0m\u001b[0;34m,\u001b[0m \u001b[0mignore_index\u001b[0m\u001b[0;34m=\u001b[0m\u001b[0;32mTrue\u001b[0m\u001b[0;34m)\u001b[0m\u001b[0;34m\u001b[0m\u001b[0;34m\u001b[0m\u001b[0m\n\u001b[0m\u001b[1;32m      2\u001b[0m \u001b[0mcombined\u001b[0m\u001b[0;34m.\u001b[0m\u001b[0mto_csv\u001b[0m\u001b[0;34m(\u001b[0m\u001b[0;34mr'/Users/sean/desktop/proj_london/combined_stop_data.csv'\u001b[0m\u001b[0;34m)\u001b[0m\u001b[0;34m\u001b[0m\u001b[0;34m\u001b[0m\u001b[0m\n",
      "\u001b[0;31mNameError\u001b[0m: name 'pd' is not defined"
     ]
    }
   ],
   "source": [
    "combined = pd.concat(appended, ignore_index=True)\n",
    "combined.to_csv(r'/Users/sean/desktop/proj_london/data/combined_stop_data.csv')"
   ]
  },
  {
   "cell_type": "markdown",
   "metadata": {},
   "source": [
    "##1.2 Read combined stop and search data \n",
    "Read combined data csv and check data:"
   ]
  },
  {
   "cell_type": "code",
   "execution_count": 13,
   "metadata": {},
   "outputs": [
    {
     "name": "stderr",
     "output_type": "stream",
     "text": [
      "/opt/anaconda3/envs/london-data/lib/python3.8/site-packages/IPython/core/interactiveshell.py:3146: DtypeWarning: Columns (14,15) have mixed types.Specify dtype option on import or set low_memory=False.\n",
      "  has_raised = await self.run_ast_nodes(code_ast.body, cell_name,\n"
     ]
    }
   ],
   "source": [
    "df = pd.read_csv('combined_data.csv', dtype={\"Latitude\": str, \"Longitude\": str})"
   ]
  },
  {
   "cell_type": "code",
   "execution_count": 14,
   "metadata": {},
   "outputs": [
    {
     "data": {
      "text/html": [
       "<div>\n",
       "<style scoped>\n",
       "    .dataframe tbody tr th:only-of-type {\n",
       "        vertical-align: middle;\n",
       "    }\n",
       "\n",
       "    .dataframe tbody tr th {\n",
       "        vertical-align: top;\n",
       "    }\n",
       "\n",
       "    .dataframe thead th {\n",
       "        text-align: right;\n",
       "    }\n",
       "</style>\n",
       "<table border=\"1\" class=\"dataframe\">\n",
       "  <thead>\n",
       "    <tr style=\"text-align: right;\">\n",
       "      <th></th>\n",
       "      <th>Unnamed: 0</th>\n",
       "      <th>Type</th>\n",
       "      <th>Date</th>\n",
       "      <th>Part of a policing operation</th>\n",
       "      <th>Policing operation</th>\n",
       "      <th>Latitude</th>\n",
       "      <th>Longitude</th>\n",
       "      <th>Gender</th>\n",
       "      <th>Age range</th>\n",
       "      <th>Self-defined ethnicity</th>\n",
       "      <th>Officer-defined ethnicity</th>\n",
       "      <th>Legislation</th>\n",
       "      <th>Object of search</th>\n",
       "      <th>Outcome</th>\n",
       "      <th>Outcome linked to object of search</th>\n",
       "      <th>Removal of more than just outer clothing</th>\n",
       "    </tr>\n",
       "  </thead>\n",
       "  <tbody>\n",
       "    <tr>\n",
       "      <th>0</th>\n",
       "      <td>0</td>\n",
       "      <td>Person and Vehicle search</td>\n",
       "      <td>2019-07-31T23:00:00+00:00</td>\n",
       "      <td>0.0</td>\n",
       "      <td>NaN</td>\n",
       "      <td>51.460887</td>\n",
       "      <td>0.005072</td>\n",
       "      <td>Male</td>\n",
       "      <td>25-34</td>\n",
       "      <td>White - English/Welsh/Scottish/Northern Irish/...</td>\n",
       "      <td>White</td>\n",
       "      <td>Misuse of Drugs Act 1971 (section 23)</td>\n",
       "      <td>Controlled drugs</td>\n",
       "      <td>A no further action disposal</td>\n",
       "      <td>NaN</td>\n",
       "      <td>NaN</td>\n",
       "    </tr>\n",
       "    <tr>\n",
       "      <th>1</th>\n",
       "      <td>1</td>\n",
       "      <td>Person and Vehicle search</td>\n",
       "      <td>2019-07-31T23:02:00+00:00</td>\n",
       "      <td>0.0</td>\n",
       "      <td>NaN</td>\n",
       "      <td>51.480146999999995</td>\n",
       "      <td>-0.507249</td>\n",
       "      <td>Male</td>\n",
       "      <td>25-34</td>\n",
       "      <td>Black/African/Caribbean/Black British - Any ot...</td>\n",
       "      <td>Black</td>\n",
       "      <td>Misuse of Drugs Act 1971 (section 23)</td>\n",
       "      <td>Controlled drugs</td>\n",
       "      <td>Arrest</td>\n",
       "      <td>NaN</td>\n",
       "      <td>NaN</td>\n",
       "    </tr>\n",
       "    <tr>\n",
       "      <th>2</th>\n",
       "      <td>2</td>\n",
       "      <td>Person search</td>\n",
       "      <td>2019-07-31T23:02:00+00:00</td>\n",
       "      <td>0.0</td>\n",
       "      <td>NaN</td>\n",
       "      <td>51.501283</td>\n",
       "      <td>-0.224885</td>\n",
       "      <td>Male</td>\n",
       "      <td>NaN</td>\n",
       "      <td>Other ethnic group - Not stated</td>\n",
       "      <td>Black</td>\n",
       "      <td>Misuse of Drugs Act 1971 (section 23)</td>\n",
       "      <td>Controlled drugs</td>\n",
       "      <td>A no further action disposal</td>\n",
       "      <td>NaN</td>\n",
       "      <td>NaN</td>\n",
       "    </tr>\n",
       "    <tr>\n",
       "      <th>3</th>\n",
       "      <td>3</td>\n",
       "      <td>Person search</td>\n",
       "      <td>2019-07-31T23:02:00+00:00</td>\n",
       "      <td>0.0</td>\n",
       "      <td>NaN</td>\n",
       "      <td>51.501283</td>\n",
       "      <td>-0.224885</td>\n",
       "      <td>Female</td>\n",
       "      <td>NaN</td>\n",
       "      <td>Other ethnic group - Not stated</td>\n",
       "      <td>Black</td>\n",
       "      <td>Misuse of Drugs Act 1971 (section 23)</td>\n",
       "      <td>Controlled drugs</td>\n",
       "      <td>A no further action disposal</td>\n",
       "      <td>NaN</td>\n",
       "      <td>NaN</td>\n",
       "    </tr>\n",
       "    <tr>\n",
       "      <th>4</th>\n",
       "      <td>4</td>\n",
       "      <td>Person search</td>\n",
       "      <td>2019-07-31T23:05:00+00:00</td>\n",
       "      <td>0.0</td>\n",
       "      <td>NaN</td>\n",
       "      <td>51.486675</td>\n",
       "      <td>-0.093976</td>\n",
       "      <td>Male</td>\n",
       "      <td>25-34</td>\n",
       "      <td>Asian/Asian British - Any other Asian background</td>\n",
       "      <td>Asian</td>\n",
       "      <td>Misuse of Drugs Act 1971 (section 23)</td>\n",
       "      <td>Controlled drugs</td>\n",
       "      <td>A no further action disposal</td>\n",
       "      <td>NaN</td>\n",
       "      <td>NaN</td>\n",
       "    </tr>\n",
       "  </tbody>\n",
       "</table>\n",
       "</div>"
      ],
      "text/plain": [
       "   Unnamed: 0                       Type                       Date  \\\n",
       "0           0  Person and Vehicle search  2019-07-31T23:00:00+00:00   \n",
       "1           1  Person and Vehicle search  2019-07-31T23:02:00+00:00   \n",
       "2           2              Person search  2019-07-31T23:02:00+00:00   \n",
       "3           3              Person search  2019-07-31T23:02:00+00:00   \n",
       "4           4              Person search  2019-07-31T23:05:00+00:00   \n",
       "\n",
       "   Part of a policing operation  Policing operation            Latitude  \\\n",
       "0                           0.0                 NaN           51.460887   \n",
       "1                           0.0                 NaN  51.480146999999995   \n",
       "2                           0.0                 NaN           51.501283   \n",
       "3                           0.0                 NaN           51.501283   \n",
       "4                           0.0                 NaN           51.486675   \n",
       "\n",
       "   Longitude  Gender Age range  \\\n",
       "0   0.005072    Male     25-34   \n",
       "1  -0.507249    Male     25-34   \n",
       "2  -0.224885    Male       NaN   \n",
       "3  -0.224885  Female       NaN   \n",
       "4  -0.093976    Male     25-34   \n",
       "\n",
       "                              Self-defined ethnicity  \\\n",
       "0  White - English/Welsh/Scottish/Northern Irish/...   \n",
       "1  Black/African/Caribbean/Black British - Any ot...   \n",
       "2                    Other ethnic group - Not stated   \n",
       "3                    Other ethnic group - Not stated   \n",
       "4   Asian/Asian British - Any other Asian background   \n",
       "\n",
       "  Officer-defined ethnicity                            Legislation  \\\n",
       "0                     White  Misuse of Drugs Act 1971 (section 23)   \n",
       "1                     Black  Misuse of Drugs Act 1971 (section 23)   \n",
       "2                     Black  Misuse of Drugs Act 1971 (section 23)   \n",
       "3                     Black  Misuse of Drugs Act 1971 (section 23)   \n",
       "4                     Asian  Misuse of Drugs Act 1971 (section 23)   \n",
       "\n",
       "   Object of search                       Outcome  \\\n",
       "0  Controlled drugs  A no further action disposal   \n",
       "1  Controlled drugs                        Arrest   \n",
       "2  Controlled drugs  A no further action disposal   \n",
       "3  Controlled drugs  A no further action disposal   \n",
       "4  Controlled drugs  A no further action disposal   \n",
       "\n",
       "  Outcome linked to object of search Removal of more than just outer clothing  \n",
       "0                                NaN                                      NaN  \n",
       "1                                NaN                                      NaN  \n",
       "2                                NaN                                      NaN  \n",
       "3                                NaN                                      NaN  \n",
       "4                                NaN                                      NaN  "
      ]
     },
     "execution_count": 14,
     "metadata": {},
     "output_type": "execute_result"
    }
   ],
   "source": [
    "df.head()"
   ]
  },
  {
   "cell_type": "code",
   "execution_count": 15,
   "metadata": {},
   "outputs": [
    {
     "name": "stdout",
     "output_type": "stream",
     "text": [
      "<class 'pandas.core.frame.DataFrame'>\n",
      "RangeIndex: 268469 entries, 0 to 268468\n",
      "Data columns (total 16 columns):\n",
      " #   Column                                    Non-Null Count   Dtype  \n",
      "---  ------                                    --------------   -----  \n",
      " 0   Unnamed: 0                                268469 non-null  int64  \n",
      " 1   Type                                      268469 non-null  object \n",
      " 2   Date                                      268469 non-null  object \n",
      " 3   Part of a policing operation              265940 non-null  float64\n",
      " 4   Policing operation                        0 non-null       float64\n",
      " 5   Latitude                                  241403 non-null  object \n",
      " 6   Longitude                                 241403 non-null  object \n",
      " 7   Gender                                    264904 non-null  object \n",
      " 8   Age range                                 239826 non-null  object \n",
      " 9   Self-defined ethnicity                    264774 non-null  object \n",
      " 10  Officer-defined ethnicity                 262970 non-null  object \n",
      " 11  Legislation                               268468 non-null  object \n",
      " 12  Object of search                          267733 non-null  object \n",
      " 13  Outcome                                   268461 non-null  object \n",
      " 14  Outcome linked to object of search        2528 non-null    object \n",
      " 15  Removal of more than just outer clothing  2528 non-null    object \n",
      "dtypes: float64(2), int64(1), object(13)\n",
      "memory usage: 32.8+ MB\n"
     ]
    }
   ],
   "source": [
    "df.info()"
   ]
  },
  {
   "cell_type": "markdown",
   "metadata": {},
   "source": [
    "##1.3 Clean dataframe\n",
    "Change column names and drop irrelevant columns:"
   ]
  },
  {
   "cell_type": "code",
   "execution_count": 17,
   "metadata": {},
   "outputs": [
    {
     "data": {
      "text/plain": [
       "Index(['Unnamed: 0', 'type', 'date', 'operation', 'Policing operation',\n",
       "       'latitude', 'longitude', 'gender', 'age_range', 'ethnicity',\n",
       "       'officer_ethnicity', 'legislation', 'purpose', 'outcome',\n",
       "       'Outcome linked to object of search',\n",
       "       'Removal of more than just outer clothing'],\n",
       "      dtype='object')"
      ]
     },
     "execution_count": 17,
     "metadata": {},
     "output_type": "execute_result"
    }
   ],
   "source": [
    "df.rename(columns=\n",
    "         {'Self-defined ethnicity': 'ethnicity',\n",
    "         'Officer-defined ethnicity':'officer_ethnicity',\n",
    "         'Object of search': 'purpose',\n",
    "         'Part of a policing operation': 'operation',\n",
    "         'Age range': 'age_range',\n",
    "         'Gender': 'gender',\n",
    "         'Outcome': 'outcome',\n",
    "         'Legislation': 'legislation',\n",
    "         'Date': 'date',\n",
    "          'Latitude': 'latitude',\n",
    "          'Longitude': 'longitude',\n",
    "          'Type': 'type'\n",
    "         },\n",
    "         inplace=True)\n",
    "df.columns"
   ]
  },
  {
   "cell_type": "code",
   "execution_count": 18,
   "metadata": {},
   "outputs": [],
   "source": [
    "df = df.drop(['Policing operation', 'Outcome linked to object of search', 'Removal of more than just outer clothing'], axis = 1) "
   ]
  },
  {
   "cell_type": "code",
   "execution_count": 19,
   "metadata": {},
   "outputs": [],
   "source": [
    "df_cleaned = df.dropna(axis=0)"
   ]
  },
  {
   "cell_type": "code",
   "execution_count": 20,
   "metadata": {},
   "outputs": [
    {
     "name": "stdout",
     "output_type": "stream",
     "text": [
      "<class 'pandas.core.frame.DataFrame'>\n",
      "Int64Index: 212165 entries, 0 to 268315\n",
      "Data columns (total 13 columns):\n",
      " #   Column             Non-Null Count   Dtype  \n",
      "---  ------             --------------   -----  \n",
      " 0   Unnamed: 0         212165 non-null  int64  \n",
      " 1   type               212165 non-null  object \n",
      " 2   date               212165 non-null  object \n",
      " 3   operation          212165 non-null  float64\n",
      " 4   latitude           212165 non-null  object \n",
      " 5   longitude          212165 non-null  object \n",
      " 6   gender             212165 non-null  object \n",
      " 7   age_range          212165 non-null  object \n",
      " 8   ethnicity          212165 non-null  object \n",
      " 9   officer_ethnicity  212165 non-null  object \n",
      " 10  legislation        212165 non-null  object \n",
      " 11  purpose            212165 non-null  object \n",
      " 12  outcome            212165 non-null  object \n",
      "dtypes: float64(1), int64(1), object(11)\n",
      "memory usage: 22.7+ MB\n"
     ]
    }
   ],
   "source": [
    "df_cleaned.info()"
   ]
  },
  {
   "cell_type": "markdown",
   "metadata": {},
   "source": [
    "##1.4 Add coordinate column\n",
    "Combine lat and long to create coordinate column for easy referencing"
   ]
  },
  {
   "cell_type": "code",
   "execution_count": 21,
   "metadata": {},
   "outputs": [
    {
     "ename": "AttributeError",
     "evalue": "'DataFrame' object has no attribute 'Latitude'",
     "output_type": "error",
     "traceback": [
      "\u001b[0;31m---------------------------------------------------------------------------\u001b[0m",
      "\u001b[0;31mAttributeError\u001b[0m                            Traceback (most recent call last)",
      "\u001b[0;32m<ipython-input-21-2a8773493918>\u001b[0m in \u001b[0;36m<module>\u001b[0;34m\u001b[0m\n\u001b[0;32m----> 1\u001b[0;31m \u001b[0mdf_cleaned\u001b[0m\u001b[0;34m[\u001b[0m\u001b[0;34m'coord'\u001b[0m\u001b[0;34m]\u001b[0m \u001b[0;34m=\u001b[0m \u001b[0;34m\"(\"\u001b[0m \u001b[0;34m+\u001b[0m \u001b[0mdf_cleaned\u001b[0m\u001b[0;34m.\u001b[0m\u001b[0mLatitude\u001b[0m \u001b[0;34m+\u001b[0m \u001b[0;34m\", \"\u001b[0m \u001b[0;34m+\u001b[0m \u001b[0mdf_cleaned\u001b[0m\u001b[0;34m.\u001b[0m\u001b[0mLongitude\u001b[0m \u001b[0;34m+\u001b[0m \u001b[0;34m\")\"\u001b[0m\u001b[0;34m\u001b[0m\u001b[0;34m\u001b[0m\u001b[0m\n\u001b[0m",
      "\u001b[0;32m/opt/anaconda3/envs/london-data/lib/python3.8/site-packages/pandas/core/generic.py\u001b[0m in \u001b[0;36m__getattr__\u001b[0;34m(self, name)\u001b[0m\n\u001b[1;32m   5137\u001b[0m             \u001b[0;32mif\u001b[0m \u001b[0mself\u001b[0m\u001b[0;34m.\u001b[0m\u001b[0m_info_axis\u001b[0m\u001b[0;34m.\u001b[0m\u001b[0m_can_hold_identifiers_and_holds_name\u001b[0m\u001b[0;34m(\u001b[0m\u001b[0mname\u001b[0m\u001b[0;34m)\u001b[0m\u001b[0;34m:\u001b[0m\u001b[0;34m\u001b[0m\u001b[0;34m\u001b[0m\u001b[0m\n\u001b[1;32m   5138\u001b[0m                 \u001b[0;32mreturn\u001b[0m \u001b[0mself\u001b[0m\u001b[0;34m[\u001b[0m\u001b[0mname\u001b[0m\u001b[0;34m]\u001b[0m\u001b[0;34m\u001b[0m\u001b[0;34m\u001b[0m\u001b[0m\n\u001b[0;32m-> 5139\u001b[0;31m             \u001b[0;32mreturn\u001b[0m \u001b[0mobject\u001b[0m\u001b[0;34m.\u001b[0m\u001b[0m__getattribute__\u001b[0m\u001b[0;34m(\u001b[0m\u001b[0mself\u001b[0m\u001b[0;34m,\u001b[0m \u001b[0mname\u001b[0m\u001b[0;34m)\u001b[0m\u001b[0;34m\u001b[0m\u001b[0;34m\u001b[0m\u001b[0m\n\u001b[0m\u001b[1;32m   5140\u001b[0m \u001b[0;34m\u001b[0m\u001b[0m\n\u001b[1;32m   5141\u001b[0m     \u001b[0;32mdef\u001b[0m \u001b[0m__setattr__\u001b[0m\u001b[0;34m(\u001b[0m\u001b[0mself\u001b[0m\u001b[0;34m,\u001b[0m \u001b[0mname\u001b[0m\u001b[0;34m:\u001b[0m \u001b[0mstr\u001b[0m\u001b[0;34m,\u001b[0m \u001b[0mvalue\u001b[0m\u001b[0;34m)\u001b[0m \u001b[0;34m->\u001b[0m \u001b[0;32mNone\u001b[0m\u001b[0;34m:\u001b[0m\u001b[0;34m\u001b[0m\u001b[0;34m\u001b[0m\u001b[0m\n",
      "\u001b[0;31mAttributeError\u001b[0m: 'DataFrame' object has no attribute 'Latitude'"
     ]
    }
   ],
   "source": [
    "df_cleaned['coord'] = \"(\" + df_cleaned.Latitude + \", \" + df_cleaned.Longitude + \")\" "
   ]
  },
  {
   "cell_type": "code",
   "execution_count": 22,
   "metadata": {},
   "outputs": [
    {
     "data": {
      "text/html": [
       "<div>\n",
       "<style scoped>\n",
       "    .dataframe tbody tr th:only-of-type {\n",
       "        vertical-align: middle;\n",
       "    }\n",
       "\n",
       "    .dataframe tbody tr th {\n",
       "        vertical-align: top;\n",
       "    }\n",
       "\n",
       "    .dataframe thead th {\n",
       "        text-align: right;\n",
       "    }\n",
       "</style>\n",
       "<table border=\"1\" class=\"dataframe\">\n",
       "  <thead>\n",
       "    <tr style=\"text-align: right;\">\n",
       "      <th></th>\n",
       "      <th>Unnamed: 0</th>\n",
       "      <th>type</th>\n",
       "      <th>date</th>\n",
       "      <th>operation</th>\n",
       "      <th>latitude</th>\n",
       "      <th>longitude</th>\n",
       "      <th>gender</th>\n",
       "      <th>age_range</th>\n",
       "      <th>ethnicity</th>\n",
       "      <th>officer_ethnicity</th>\n",
       "      <th>legislation</th>\n",
       "      <th>purpose</th>\n",
       "      <th>outcome</th>\n",
       "    </tr>\n",
       "  </thead>\n",
       "  <tbody>\n",
       "    <tr>\n",
       "      <th>0</th>\n",
       "      <td>0</td>\n",
       "      <td>Person and Vehicle search</td>\n",
       "      <td>2019-07-31T23:00:00+00:00</td>\n",
       "      <td>0.0</td>\n",
       "      <td>51.460887</td>\n",
       "      <td>0.005072</td>\n",
       "      <td>Male</td>\n",
       "      <td>25-34</td>\n",
       "      <td>White - English/Welsh/Scottish/Northern Irish/...</td>\n",
       "      <td>White</td>\n",
       "      <td>Misuse of Drugs Act 1971 (section 23)</td>\n",
       "      <td>Controlled drugs</td>\n",
       "      <td>A no further action disposal</td>\n",
       "    </tr>\n",
       "    <tr>\n",
       "      <th>1</th>\n",
       "      <td>1</td>\n",
       "      <td>Person and Vehicle search</td>\n",
       "      <td>2019-07-31T23:02:00+00:00</td>\n",
       "      <td>0.0</td>\n",
       "      <td>51.480146999999995</td>\n",
       "      <td>-0.507249</td>\n",
       "      <td>Male</td>\n",
       "      <td>25-34</td>\n",
       "      <td>Black/African/Caribbean/Black British - Any ot...</td>\n",
       "      <td>Black</td>\n",
       "      <td>Misuse of Drugs Act 1971 (section 23)</td>\n",
       "      <td>Controlled drugs</td>\n",
       "      <td>Arrest</td>\n",
       "    </tr>\n",
       "    <tr>\n",
       "      <th>4</th>\n",
       "      <td>4</td>\n",
       "      <td>Person search</td>\n",
       "      <td>2019-07-31T23:05:00+00:00</td>\n",
       "      <td>0.0</td>\n",
       "      <td>51.486675</td>\n",
       "      <td>-0.093976</td>\n",
       "      <td>Male</td>\n",
       "      <td>25-34</td>\n",
       "      <td>Asian/Asian British - Any other Asian background</td>\n",
       "      <td>Asian</td>\n",
       "      <td>Misuse of Drugs Act 1971 (section 23)</td>\n",
       "      <td>Controlled drugs</td>\n",
       "      <td>A no further action disposal</td>\n",
       "    </tr>\n",
       "    <tr>\n",
       "      <th>5</th>\n",
       "      <td>5</td>\n",
       "      <td>Person search</td>\n",
       "      <td>2019-07-31T23:05:00+00:00</td>\n",
       "      <td>0.0</td>\n",
       "      <td>51.509962</td>\n",
       "      <td>-0.131179</td>\n",
       "      <td>Male</td>\n",
       "      <td>10-17</td>\n",
       "      <td>Other ethnic group - Not stated</td>\n",
       "      <td>White</td>\n",
       "      <td>Misuse of Drugs Act 1971 (section 23)</td>\n",
       "      <td>Controlled drugs</td>\n",
       "      <td>Community resolution</td>\n",
       "    </tr>\n",
       "    <tr>\n",
       "      <th>8</th>\n",
       "      <td>8</td>\n",
       "      <td>Person search</td>\n",
       "      <td>2019-07-31T23:07:00+00:00</td>\n",
       "      <td>0.0</td>\n",
       "      <td>51.509962</td>\n",
       "      <td>-0.131179</td>\n",
       "      <td>Male</td>\n",
       "      <td>18-24</td>\n",
       "      <td>Black/African/Caribbean/Black British - Caribbean</td>\n",
       "      <td>Asian</td>\n",
       "      <td>Misuse of Drugs Act 1971 (section 23)</td>\n",
       "      <td>Controlled drugs</td>\n",
       "      <td>Community resolution</td>\n",
       "    </tr>\n",
       "  </tbody>\n",
       "</table>\n",
       "</div>"
      ],
      "text/plain": [
       "   Unnamed: 0                       type                       date  \\\n",
       "0           0  Person and Vehicle search  2019-07-31T23:00:00+00:00   \n",
       "1           1  Person and Vehicle search  2019-07-31T23:02:00+00:00   \n",
       "4           4              Person search  2019-07-31T23:05:00+00:00   \n",
       "5           5              Person search  2019-07-31T23:05:00+00:00   \n",
       "8           8              Person search  2019-07-31T23:07:00+00:00   \n",
       "\n",
       "   operation            latitude  longitude gender age_range  \\\n",
       "0        0.0           51.460887   0.005072   Male     25-34   \n",
       "1        0.0  51.480146999999995  -0.507249   Male     25-34   \n",
       "4        0.0           51.486675  -0.093976   Male     25-34   \n",
       "5        0.0           51.509962  -0.131179   Male     10-17   \n",
       "8        0.0           51.509962  -0.131179   Male     18-24   \n",
       "\n",
       "                                           ethnicity officer_ethnicity  \\\n",
       "0  White - English/Welsh/Scottish/Northern Irish/...             White   \n",
       "1  Black/African/Caribbean/Black British - Any ot...             Black   \n",
       "4   Asian/Asian British - Any other Asian background             Asian   \n",
       "5                    Other ethnic group - Not stated             White   \n",
       "8  Black/African/Caribbean/Black British - Caribbean             Asian   \n",
       "\n",
       "                             legislation           purpose  \\\n",
       "0  Misuse of Drugs Act 1971 (section 23)  Controlled drugs   \n",
       "1  Misuse of Drugs Act 1971 (section 23)  Controlled drugs   \n",
       "4  Misuse of Drugs Act 1971 (section 23)  Controlled drugs   \n",
       "5  Misuse of Drugs Act 1971 (section 23)  Controlled drugs   \n",
       "8  Misuse of Drugs Act 1971 (section 23)  Controlled drugs   \n",
       "\n",
       "                        outcome  \n",
       "0  A no further action disposal  \n",
       "1                        Arrest  \n",
       "4  A no further action disposal  \n",
       "5          Community resolution  \n",
       "8          Community resolution  "
      ]
     },
     "execution_count": 22,
     "metadata": {},
     "output_type": "execute_result"
    }
   ],
   "source": [
    "df_cleaned.head()"
   ]
  },
  {
   "cell_type": "code",
   "execution_count": 23,
   "metadata": {},
   "outputs": [
    {
     "name": "stdout",
     "output_type": "stream",
     "text": [
      "<class 'pandas.core.frame.DataFrame'>\n",
      "Int64Index: 212165 entries, 0 to 268315\n",
      "Data columns (total 13 columns):\n",
      " #   Column             Non-Null Count   Dtype  \n",
      "---  ------             --------------   -----  \n",
      " 0   Unnamed: 0         212165 non-null  int64  \n",
      " 1   type               212165 non-null  object \n",
      " 2   date               212165 non-null  object \n",
      " 3   operation          212165 non-null  float64\n",
      " 4   latitude           212165 non-null  object \n",
      " 5   longitude          212165 non-null  object \n",
      " 6   gender             212165 non-null  object \n",
      " 7   age_range          212165 non-null  object \n",
      " 8   ethnicity          212165 non-null  object \n",
      " 9   officer_ethnicity  212165 non-null  object \n",
      " 10  legislation        212165 non-null  object \n",
      " 11  purpose            212165 non-null  object \n",
      " 12  outcome            212165 non-null  object \n",
      "dtypes: float64(1), int64(1), object(11)\n",
      "memory usage: 22.7+ MB\n"
     ]
    }
   ],
   "source": [
    "df_cleaned.info()"
   ]
  },
  {
   "cell_type": "code",
   "execution_count": 2,
   "metadata": {},
   "outputs": [
    {
     "ename": "NameError",
     "evalue": "name 'df_cleaned' is not defined",
     "output_type": "error",
     "traceback": [
      "\u001b[0;31m---------------------------------------------------------------------------\u001b[0m",
      "\u001b[0;31mNameError\u001b[0m                                 Traceback (most recent call last)",
      "\u001b[0;32m<ipython-input-2-cfa37acc4a37>\u001b[0m in \u001b[0;36m<module>\u001b[0;34m\u001b[0m\n\u001b[0;32m----> 1\u001b[0;31m \u001b[0mdf_cleaned\u001b[0m\u001b[0;34m.\u001b[0m\u001b[0mto_csv\u001b[0m\u001b[0;34m(\u001b[0m\u001b[0;34mr'/Users/sean/Desktop/proj_london/cleaned_stop_data.csv'\u001b[0m\u001b[0;34m)\u001b[0m\u001b[0;34m\u001b[0m\u001b[0;34m\u001b[0m\u001b[0m\n\u001b[0m",
      "\u001b[0;31mNameError\u001b[0m: name 'df_cleaned' is not defined"
     ]
    }
   ],
   "source": [
    "df_cleaned.to_csv(r'/Users/sean/Desktop/proj_london/data/cleaned_stop_data.csv')"
   ]
  },
  {
   "cell_type": "markdown",
   "metadata": {},
   "source": [
    "#2 Reshape London GeoJSON\n",
    "##2.1 Download London GeoJSON and add ID to each feature"
   ]
  },
  {
   "cell_type": "code",
   "execution_count": null,
   "metadata": {},
   "outputs": [],
   "source": []
  },
  {
   "cell_type": "code",
   "execution_count": null,
   "metadata": {},
   "outputs": [],
   "source": []
  },
  {
   "cell_type": "code",
   "execution_count": null,
   "metadata": {},
   "outputs": [],
   "source": []
  },
  {
   "cell_type": "code",
   "execution_count": null,
   "metadata": {},
   "outputs": [],
   "source": []
  },
  {
   "cell_type": "code",
   "execution_count": null,
   "metadata": {},
   "outputs": [],
   "source": []
  },
  {
   "cell_type": "code",
   "execution_count": null,
   "metadata": {},
   "outputs": [],
   "source": []
  }
 ],
 "metadata": {
  "kernelspec": {
   "display_name": "Python 3",
   "language": "python",
   "name": "python3"
  },
  "language_info": {
   "codemirror_mode": {
    "name": "ipython",
    "version": 3
   },
   "file_extension": ".py",
   "mimetype": "text/x-python",
   "name": "python",
   "nbconvert_exporter": "python",
   "pygments_lexer": "ipython3",
   "version": "3.8.2"
  }
 },
 "nbformat": 4,
 "nbformat_minor": 4
}
